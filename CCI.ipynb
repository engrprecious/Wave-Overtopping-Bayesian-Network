{
 "cells": [
  {
   "cell_type": "code",
   "execution_count": 28,
   "metadata": {},
   "outputs": [],
   "source": [
    "import numpy as np; import pandas as pd; from scipy.stats import norm;\n",
    "from itertools import combinations; import scipy; from fcit import fcit; import time; import matplotlib.pyplot as plt; import seaborn as sns"
   ]
  },
  {
   "cell_type": "code",
   "execution_count": 2,
   "metadata": {},
   "outputs": [],
   "source": [
    "def gaussKern(x,b=10):\n",
    "    return (1 / np.sqrt(2*np.pi)) * np.exp(-0.5 * ((x/b)**2))"
   ]
  },
  {
   "cell_type": "code",
   "execution_count": 3,
   "metadata": {},
   "outputs": [],
   "source": [
    "def Resid(x,Z=[],D=None):\n",
    "    if Z == []:\n",
    "        return x\n",
    "    elif Z.ndim==1:\n",
    "        resids = []\n",
    "        for i in range(len(x)):\n",
    "            summ = 0\n",
    "            weight = 0 \n",
    "            for j in range(len(x)):\n",
    "                d = np.sqrt((Z[i]-Z[j])**2)\n",
    "                k = gaussKern(d)\n",
    "                summ += (k*x[j])\n",
    "                weight += k\n",
    "            resids.append(x[i] - (summ/weight))\n",
    "        return np.array(resids)\n",
    "    else:\n",
    "        resids = []\n",
    "        for i in range(len(x)):\n",
    "            summ = 0\n",
    "            weight = 0 \n",
    "            for j in range(len(x)):\n",
    "                d = np.sqrt(sum((Z[i,]-Z[j,])**2))\n",
    "                k = gaussKern(d)\n",
    "                summ += (k*x[j])\n",
    "                weight += k\n",
    "            resids.append(x[i] - (summ/weight))\n",
    "        return np.array(resids)        \n",
    "        "
   ]
  },
  {
   "cell_type": "code",
   "execution_count": 4,
   "metadata": {},
   "outputs": [],
   "source": [
    "def Independence(x,y,funclist,funcSet,alpha,D=None):\n",
    "    pList = []\n",
    "    for i in range(21):\n",
    "        f = funclist[funcSet[i][0]]\n",
    "        g = funclist[funcSet[i][1]]\n",
    "        r = np.corrcoef(f(x),g(y))[0][1]\n",
    "        z = 0.5 * np.log((1+r)/(1-r))\n",
    "        xp = (f(x)-np.mean(f(x)))/np.std(f(x))\n",
    "        yp = (g(y)-np.mean(g(y)))/np.std(g(y))\n",
    "        tau = np.cov(xp**2,yp**2)[0][1] + (np.mean(xp**2)*np.mean(yp**2))\n",
    "        p = 2*(1-np.abs(norm.cdf(x=np.sqrt(len(x))*z,loc=0,scale=tau)))\n",
    "        pList.append(p)\n",
    "    if any(np.array(pList)<alpha):\n",
    "        return False\n",
    "    else:\n",
    "        return True"
   ]
  },
  {
   "cell_type": "code",
   "execution_count": 5,
   "metadata": {},
   "outputs": [],
   "source": [
    "def CCI(x,y,Z,funclist,funcSet,alpha,D=None):\n",
    "    rx = Resid(x,Z)\n",
    "    ry = Resid(y,Z)\n",
    "    return Independence(rx,ry,funclist,funcSet,alpha,D=None)"
   ]
  },
  {
   "cell_type": "code",
   "execution_count": 6,
   "metadata": {},
   "outputs": [],
   "source": [
    "funcSet = list(combinations(range(7),2))"
   ]
  },
  {
   "cell_type": "code",
   "execution_count": 7,
   "metadata": {},
   "outputs": [],
   "source": [
    "# Create list of functions\n",
    "\n",
    "def f1(x):\n",
    "    return x\n",
    "\n",
    "def f2(x):\n",
    "    return x**2\n",
    "\n",
    "def f3(x):\n",
    "    return x**3\n",
    "\n",
    "def f4(x):\n",
    "    return x**4\n",
    "\n",
    "def f5(x):\n",
    "    return x**5\n",
    "\n",
    "def f6(x):\n",
    "    return x**6\n",
    "\n",
    "def f7(x):\n",
    "    return x**7\n",
    "\n",
    "funclist = [f1,f2,f3,f4,f5,f6,f7]"
   ]
  },
  {
   "cell_type": "markdown",
   "metadata": {},
   "source": [
    "**Implementation**"
   ]
  },
  {
   "cell_type": "code",
   "execution_count": 77,
   "metadata": {},
   "outputs": [],
   "source": [
    "Data = np.array(pd.read_csv('/Users/jamie/Desktop/Diss Resources/Jamie/Processed_data.csv'))\n",
    "unifData = np.array(pd.read_csv('/Users/jamie/Desktop/Diss Resources/Jamie/Updated_Data.csv'))"
   ]
  },
  {
   "cell_type": "code",
   "execution_count": 81,
   "metadata": {},
   "outputs": [],
   "source": [
    "import random\n",
    "randomsample = [random.choice(range(len(unifData))) for i in range(500)]\n",
    "data = unifData[randomsample,:]"
   ]
  },
  {
   "cell_type": "code",
   "execution_count": 79,
   "metadata": {},
   "outputs": [],
   "source": [
    "A = np.array([[True]*8]*8)\n",
    "np.fill_diagonal(A,False)\n",
    "seq = list(range(8))\n",
    "sepset = pd.DataFrame(index=list(range(8)),columns=list(range(8)))"
   ]
  },
  {
   "cell_type": "code",
   "execution_count": 80,
   "metadata": {
    "scrolled": true
   },
   "outputs": [
    {
     "name": "stderr",
     "output_type": "stream",
     "text": [
      "<ipython-input-3-2ac5ec0d6168>:2: DeprecationWarning: The truth value of an empty array is ambiguous. Returning False, but in future this will result in an error. Use `array.size > 0` to check that an array is not empty.\n",
      "  if Z == []:\n",
      "<ipython-input-3-2ac5ec0d6168>:2: DeprecationWarning: elementwise comparison failed; this will raise an error in the future.\n",
      "  if Z == []:\n"
     ]
    },
    {
     "ename": "KeyboardInterrupt",
     "evalue": "",
     "output_type": "error",
     "traceback": [
      "\u001b[0;31m---------------------------------------------------------------------------\u001b[0m",
      "\u001b[0;31mKeyboardInterrupt\u001b[0m                         Traceback (most recent call last)",
      "\u001b[0;32m<ipython-input-80-97eaa094d355>\u001b[0m in \u001b[0;36m<module>\u001b[0;34m\u001b[0m\n\u001b[1;32m     32\u001b[0m                 \u001b[0msep_set\u001b[0m \u001b[0;34m=\u001b[0m \u001b[0mlist\u001b[0m\u001b[0;34m(\u001b[0m\u001b[0mcombinations\u001b[0m\u001b[0;34m(\u001b[0m\u001b[0mrange\u001b[0m\u001b[0;34m(\u001b[0m\u001b[0mlen\u001b[0m\u001b[0;34m(\u001b[0m\u001b[0mA\u001b[0m\u001b[0;34m[\u001b[0m\u001b[0;34m:\u001b[0m\u001b[0;34m,\u001b[0m\u001b[0mi\u001b[0m\u001b[0;34m]\u001b[0m\u001b[0;34m==\u001b[0m\u001b[0mA\u001b[0m\u001b[0;34m[\u001b[0m\u001b[0;34m:\u001b[0m\u001b[0;34m,\u001b[0m\u001b[0mj\u001b[0m\u001b[0;34m]\u001b[0m\u001b[0;34m)\u001b[0m\u001b[0;34m)\u001b[0m\u001b[0;34m,\u001b[0m\u001b[0mr\u001b[0m\u001b[0;34m=\u001b[0m\u001b[0mk\u001b[0m\u001b[0;34m)\u001b[0m\u001b[0;34m)\u001b[0m\u001b[0;34m\u001b[0m\u001b[0;34m\u001b[0m\u001b[0m\n\u001b[1;32m     33\u001b[0m                 \u001b[0;32mfor\u001b[0m \u001b[0ml\u001b[0m \u001b[0;32min\u001b[0m \u001b[0mrange\u001b[0m\u001b[0;34m(\u001b[0m\u001b[0mlen\u001b[0m\u001b[0;34m(\u001b[0m\u001b[0msep_set\u001b[0m\u001b[0;34m)\u001b[0m\u001b[0;34m)\u001b[0m\u001b[0;34m:\u001b[0m\u001b[0;34m\u001b[0m\u001b[0;34m\u001b[0m\u001b[0m\n\u001b[0;32m---> 34\u001b[0;31m                     \u001b[0;32mif\u001b[0m \u001b[0mCCI\u001b[0m\u001b[0;34m(\u001b[0m\u001b[0mdata\u001b[0m\u001b[0;34m[\u001b[0m\u001b[0;34m:\u001b[0m\u001b[0;34m,\u001b[0m\u001b[0mi\u001b[0m\u001b[0;34m]\u001b[0m\u001b[0;34m,\u001b[0m\u001b[0mdata\u001b[0m\u001b[0;34m[\u001b[0m\u001b[0;34m:\u001b[0m\u001b[0;34m,\u001b[0m\u001b[0mj\u001b[0m\u001b[0;34m]\u001b[0m\u001b[0;34m,\u001b[0m\u001b[0mdata\u001b[0m\u001b[0;34m[\u001b[0m\u001b[0;34m:\u001b[0m\u001b[0;34m,\u001b[0m\u001b[0msep_set\u001b[0m\u001b[0;34m[\u001b[0m\u001b[0ml\u001b[0m\u001b[0;34m]\u001b[0m\u001b[0;34m]\u001b[0m\u001b[0;34m,\u001b[0m\u001b[0mfunclist\u001b[0m\u001b[0;34m,\u001b[0m\u001b[0mfuncSet\u001b[0m\u001b[0;34m,\u001b[0m\u001b[0malpha\u001b[0m\u001b[0;34m=\u001b[0m\u001b[0;36m0.05\u001b[0m\u001b[0;34m)\u001b[0m\u001b[0;34m==\u001b[0m\u001b[0;32mTrue\u001b[0m\u001b[0;34m:\u001b[0m\u001b[0;34m\u001b[0m\u001b[0;34m\u001b[0m\u001b[0m\n\u001b[0m\u001b[1;32m     35\u001b[0m                         \u001b[0mA\u001b[0m\u001b[0;34m[\u001b[0m\u001b[0mi\u001b[0m\u001b[0;34m,\u001b[0m\u001b[0mj\u001b[0m\u001b[0;34m]\u001b[0m\u001b[0;34m=\u001b[0m\u001b[0;32mFalse\u001b[0m\u001b[0;34m\u001b[0m\u001b[0;34m\u001b[0m\u001b[0m\n\u001b[1;32m     36\u001b[0m                         \u001b[0msepset\u001b[0m\u001b[0;34m.\u001b[0m\u001b[0miloc\u001b[0m\u001b[0;34m[\u001b[0m\u001b[0mi\u001b[0m\u001b[0;34m,\u001b[0m\u001b[0mj\u001b[0m\u001b[0;34m]\u001b[0m\u001b[0;34m=\u001b[0m\u001b[0msep_set\u001b[0m\u001b[0;34m[\u001b[0m\u001b[0ml\u001b[0m\u001b[0;34m]\u001b[0m\u001b[0;34m\u001b[0m\u001b[0;34m\u001b[0m\u001b[0m\n",
      "\u001b[0;32m<ipython-input-5-fe1c5b06cf7b>\u001b[0m in \u001b[0;36mCCI\u001b[0;34m(x, y, Z, funclist, funcSet, alpha, D)\u001b[0m\n\u001b[1;32m      1\u001b[0m \u001b[0;32mdef\u001b[0m \u001b[0mCCI\u001b[0m\u001b[0;34m(\u001b[0m\u001b[0mx\u001b[0m\u001b[0;34m,\u001b[0m\u001b[0my\u001b[0m\u001b[0;34m,\u001b[0m\u001b[0mZ\u001b[0m\u001b[0;34m,\u001b[0m\u001b[0mfunclist\u001b[0m\u001b[0;34m,\u001b[0m\u001b[0mfuncSet\u001b[0m\u001b[0;34m,\u001b[0m\u001b[0malpha\u001b[0m\u001b[0;34m,\u001b[0m\u001b[0mD\u001b[0m\u001b[0;34m=\u001b[0m\u001b[0;32mNone\u001b[0m\u001b[0;34m)\u001b[0m\u001b[0;34m:\u001b[0m\u001b[0;34m\u001b[0m\u001b[0;34m\u001b[0m\u001b[0m\n\u001b[1;32m      2\u001b[0m     \u001b[0mrx\u001b[0m \u001b[0;34m=\u001b[0m \u001b[0mResid\u001b[0m\u001b[0;34m(\u001b[0m\u001b[0mx\u001b[0m\u001b[0;34m,\u001b[0m\u001b[0mZ\u001b[0m\u001b[0;34m)\u001b[0m\u001b[0;34m\u001b[0m\u001b[0;34m\u001b[0m\u001b[0m\n\u001b[0;32m----> 3\u001b[0;31m     \u001b[0mry\u001b[0m \u001b[0;34m=\u001b[0m \u001b[0mResid\u001b[0m\u001b[0;34m(\u001b[0m\u001b[0my\u001b[0m\u001b[0;34m,\u001b[0m\u001b[0mZ\u001b[0m\u001b[0;34m)\u001b[0m\u001b[0;34m\u001b[0m\u001b[0;34m\u001b[0m\u001b[0m\n\u001b[0m\u001b[1;32m      4\u001b[0m     \u001b[0;32mreturn\u001b[0m \u001b[0mIndependence\u001b[0m\u001b[0;34m(\u001b[0m\u001b[0mrx\u001b[0m\u001b[0;34m,\u001b[0m\u001b[0mry\u001b[0m\u001b[0;34m,\u001b[0m\u001b[0mfunclist\u001b[0m\u001b[0;34m,\u001b[0m\u001b[0mfuncSet\u001b[0m\u001b[0;34m,\u001b[0m\u001b[0malpha\u001b[0m\u001b[0;34m,\u001b[0m\u001b[0mD\u001b[0m\u001b[0;34m=\u001b[0m\u001b[0;32mNone\u001b[0m\u001b[0;34m)\u001b[0m\u001b[0;34m\u001b[0m\u001b[0;34m\u001b[0m\u001b[0m\n",
      "\u001b[0;32m<ipython-input-3-2ac5ec0d6168>\u001b[0m in \u001b[0;36mResid\u001b[0;34m(x, Z, D)\u001b[0m\n\u001b[1;32m     20\u001b[0m             \u001b[0mweight\u001b[0m \u001b[0;34m=\u001b[0m \u001b[0;36m0\u001b[0m\u001b[0;34m\u001b[0m\u001b[0;34m\u001b[0m\u001b[0m\n\u001b[1;32m     21\u001b[0m             \u001b[0;32mfor\u001b[0m \u001b[0mj\u001b[0m \u001b[0;32min\u001b[0m \u001b[0mrange\u001b[0m\u001b[0;34m(\u001b[0m\u001b[0mlen\u001b[0m\u001b[0;34m(\u001b[0m\u001b[0mx\u001b[0m\u001b[0;34m)\u001b[0m\u001b[0;34m)\u001b[0m\u001b[0;34m:\u001b[0m\u001b[0;34m\u001b[0m\u001b[0;34m\u001b[0m\u001b[0m\n\u001b[0;32m---> 22\u001b[0;31m                 \u001b[0md\u001b[0m \u001b[0;34m=\u001b[0m \u001b[0mnp\u001b[0m\u001b[0;34m.\u001b[0m\u001b[0msqrt\u001b[0m\u001b[0;34m(\u001b[0m\u001b[0msum\u001b[0m\u001b[0;34m(\u001b[0m\u001b[0;34m(\u001b[0m\u001b[0mZ\u001b[0m\u001b[0;34m[\u001b[0m\u001b[0mi\u001b[0m\u001b[0;34m,\u001b[0m\u001b[0;34m]\u001b[0m\u001b[0;34m-\u001b[0m\u001b[0mZ\u001b[0m\u001b[0;34m[\u001b[0m\u001b[0mj\u001b[0m\u001b[0;34m,\u001b[0m\u001b[0;34m]\u001b[0m\u001b[0;34m)\u001b[0m\u001b[0;34m**\u001b[0m\u001b[0;36m2\u001b[0m\u001b[0;34m)\u001b[0m\u001b[0;34m)\u001b[0m\u001b[0;34m\u001b[0m\u001b[0;34m\u001b[0m\u001b[0m\n\u001b[0m\u001b[1;32m     23\u001b[0m                 \u001b[0mk\u001b[0m \u001b[0;34m=\u001b[0m \u001b[0mgaussKern\u001b[0m\u001b[0;34m(\u001b[0m\u001b[0md\u001b[0m\u001b[0;34m)\u001b[0m\u001b[0;34m\u001b[0m\u001b[0;34m\u001b[0m\u001b[0m\n\u001b[1;32m     24\u001b[0m                 \u001b[0msumm\u001b[0m \u001b[0;34m+=\u001b[0m \u001b[0;34m(\u001b[0m\u001b[0mk\u001b[0m\u001b[0;34m*\u001b[0m\u001b[0mx\u001b[0m\u001b[0;34m[\u001b[0m\u001b[0mj\u001b[0m\u001b[0;34m]\u001b[0m\u001b[0;34m)\u001b[0m\u001b[0;34m\u001b[0m\u001b[0;34m\u001b[0m\u001b[0m\n",
      "\u001b[0;31mKeyboardInterrupt\u001b[0m: "
     ]
    }
   ],
   "source": [
    "# PC Alg\n",
    "\n",
    "for i in range(8):\n",
    "    for j in range(8):\n",
    "        if i != j:\n",
    "            if scipy.stats.kendalltau(data[:,i],data[:,j]).pvalue > 0.01:\n",
    "                A[i,j] = False\n",
    "                sepset.iloc[i,j]=None\n",
    "                sepset.iloc[j,i]=None\n",
    "                \n",
    "                \n",
    "A\n",
    "\n",
    "k=1\n",
    "for i in range(8):\n",
    "    if len(A[i,:][A[i,:]]==True) <= k:\n",
    "        break\n",
    "    else:\n",
    "        for j in range(8):\n",
    "            if (i!=j) & (A[i,j]==True):\n",
    "                sep_set = list(combinations(range(len(A[:,i]==A[:,j])),r=k))\n",
    "                for l in range(len(sep_set)):\n",
    "                    if CCI(data[:,i],data[:,j],data[:,sep_set[l]],funclist,funcSet,alpha=0.05)==True:\n",
    "                        A[i,j]=False\n",
    "                        sepset.iloc[i,j]=sep_set[l] \n",
    "                        sepset.iloc[j,i]=sep_set[l] \n",
    "A\n",
    "k=2\n",
    "\n",
    "for i in range(8):\n",
    "    if len(A[i,:][A[i,:]]==True) <= k:\n",
    "        break\n",
    "    else:\n",
    "        for j in range(8):\n",
    "            if (i!=j) & (A[i,j]==True):\n",
    "                sep_set = list(combinations(range(len(A[:,i]==A[:,j])),r=k))\n",
    "                for l in range(len(sep_set)):\n",
    "                    if CCI(data[:,i],data[:,j],data[:,sep_set[l]],funclist,funcSet,alpha=0.05)==True:\n",
    "                        A[i,j]=False\n",
    "                        sepset.iloc[i,j]=sep_set[l]   \n",
    "A\n",
    "k=3\n",
    "for i in range(8):\n",
    "    if len(A[i,:][A[i,:]]==True) <= k:\n",
    "        break\n",
    "    else:\n",
    "        for j in range(8):\n",
    "            if (i!=j) & (A[i,j]==True):\n",
    "                sep_set = list(combinations(range(len(A[:,i]==A[:,j])),r=k))\n",
    "                for l in range(len(sep_set)):\n",
    "                    if CCI(data[:,i],data[:,j],data[:,sep_set[l]],funclist,funcSet,alpha=0.01)==True:\n",
    "                        A[i,j]=False\n",
    "                        sepset.iloc[i,j]=sep_set[l]                        \n",
    "A\n",
    "k=4\n",
    "for i in range(8):\n",
    "    if len(A[i,:][A[i,:]]==True) <= k:\n",
    "        break\n",
    "    else:\n",
    "        for j in range(8):\n",
    "            if (i!=j) & (A[i,j]==True):\n",
    "                sep_set = list(combinations(range(len(A[:,i]==A[:,j])),r=k))\n",
    "                for l in range(len(sep_set)):\n",
    "                    if CCI(data[:,i],data[:,j],data[:,sep_set[l]],funclist,funcSet,alpha=0.01)==True:\n",
    "                        A[i,j]=False\n",
    "                        sepset.iloc[i,j]=sep_set[l]   \n",
    "A\n",
    "k=5\n",
    "for i in range(8):\n",
    "    if len(A[i,:][A[i,:]]==True) <= k:\n",
    "        break\n",
    "    else:\n",
    "        for j in range(8):\n",
    "            if (i!=j) & (A[i,j]==True):\n",
    "                sep_set = list(combinations(range(len(A[:,i]==A[:,j])),r=k))\n",
    "                for l in range(len(sep_set)):\n",
    "                    if CCI(data[:,i],data[:,j],data[:,sep_set[l]],funclist,funcSet,alpha=0.01)==True:\n",
    "                        A[i,j]=False\n",
    "                        sepset.iloc[i,j]=sep_set[l]   \n",
    "A \n",
    "k=6\n",
    "for i in range(8):\n",
    "    if len(A[i,:][A[i,:]]==True) <= k:\n",
    "        break\n",
    "    else:\n",
    "        for j in range(8):\n",
    "            if (i!=j) & (A[i,j]==True):\n",
    "                sep_set = list(combinations(range(len(A[:,i]==A[:,j])),r=k))\n",
    "                for l in range(len(sep_set)):\n",
    "                    if CCI(data[:,i],data[:,j],data[:,sep_set[l]],funclist,funcSet,alpha=0.01)==True:\n",
    "                        A[i,j]=False\n",
    "                        sepset.iloc[i,j]=sep_set[l]                       \n",
    "A\n",
    "k=7\n",
    "for i in range(8):\n",
    "    if len(A[i,:][A[i,:]]==True) <= k:\n",
    "        break\n",
    "    else:\n",
    "        for j in range(8):\n",
    "            if (i!=j) & (A[i,j]==True):\n",
    "                sep_set = list(combinations(range(len(A[:,i]==A[:,j])),r=k))\n",
    "                for l in range(len(sep_set)):\n",
    "                    if CCI(data[:,i],data[:,j],data[:,sep_set[l]],funclist,funcSet,alpha=0.01)==True:\n",
    "                        A[i,j]=False\n",
    "                        sepset.iloc[i,j]=sep_set[l]  \n",
    "A"
   ]
  },
  {
   "cell_type": "code",
   "execution_count": 85,
   "metadata": {},
   "outputs": [
    {
     "name": "stderr",
     "output_type": "stream",
     "text": [
      "<ipython-input-3-2ac5ec0d6168>:2: DeprecationWarning: elementwise comparison failed; this will raise an error in the future.\n",
      "  if Z == []:\n"
     ]
    },
    {
     "data": {
      "text/plain": [
       "5.815978050231934"
      ]
     },
     "execution_count": 85,
     "metadata": {},
     "output_type": "execute_result"
    }
   ],
   "source": [
    "s=time.time()\n",
    "CCI(data[:,1],data[:,2],data[:,[3,4]],funclist,funcSet,alpha=0.01)\n",
    "e=time.time()\n",
    "e-s"
   ]
  },
  {
   "cell_type": "code",
   "execution_count": null,
   "metadata": {},
   "outputs": [],
   "source": []
  },
  {
   "cell_type": "code",
   "execution_count": null,
   "metadata": {},
   "outputs": [],
   "source": []
  },
  {
   "cell_type": "code",
   "execution_count": null,
   "metadata": {},
   "outputs": [],
   "source": []
  },
  {
   "cell_type": "code",
   "execution_count": null,
   "metadata": {},
   "outputs": [],
   "source": []
  },
  {
   "cell_type": "code",
   "execution_count": null,
   "metadata": {},
   "outputs": [],
   "source": []
  }
 ],
 "metadata": {
  "kernelspec": {
   "display_name": "Python 3",
   "language": "python",
   "name": "python3"
  },
  "language_info": {
   "codemirror_mode": {
    "name": "ipython",
    "version": 3
   },
   "file_extension": ".py",
   "mimetype": "text/x-python",
   "name": "python",
   "nbconvert_exporter": "python",
   "pygments_lexer": "ipython3",
   "version": "3.8.2"
  }
 },
 "nbformat": 4,
 "nbformat_minor": 4
}
